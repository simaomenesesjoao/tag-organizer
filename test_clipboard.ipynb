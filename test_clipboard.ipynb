{
 "cells": [
  {
   "cell_type": "code",
   "execution_count": 9,
   "id": "0a837168-f899-4aa4-911b-eb4ae06d6f9a",
   "metadata": {},
   "outputs": [],
   "source": [
    "import clipboard\n",
    "import os"
   ]
  },
  {
   "cell_type": "code",
   "execution_count": 34,
   "id": "a6315716-c9e2-41aa-80b0-5ccf35489817",
   "metadata": {},
   "outputs": [
    {
     "name": "stdout",
     "output_type": "stream",
     "text": [
      "['/home/simao/temp/tbg_simao2.py', '/home/simao/temp/pryianka.py', '/home/simao/temp/haldane.py', '/home/simao/temp/kite.py', '/home/simao/temp/Untitled.ipynb']\n",
      "/home/simao/temp/tbg_simao2.py\n",
      "tbg_simao2.py\n",
      "Creating link\n",
      "/home/simao/temp/pryianka.py\n",
      "pryianka.py\n",
      "Creating link\n",
      "/home/simao/temp/haldane.py\n",
      "haldane.py\n",
      "Creating link\n",
      "/home/simao/temp/kite.py\n",
      "kite.py\n",
      "Creating link\n",
      "/home/simao/temp/Untitled.ipynb\n",
      "Untitled.ipynb\n",
      "Creating link\n"
     ]
    }
   ],
   "source": [
    "result_dir = \"/home/simao/res_dir/\"\n",
    "\n",
    "files = clipboard.paste()   # Copy to the clipboard.\n",
    "files = files.split(\"\\n\")\n",
    "print(files)\n",
    "\n",
    "for file in files:\n",
    "    \n",
    "    # Check if what is on the clipboard are filenames\n",
    "    print(file)\n",
    "    exists = os.path.exists(file)\n",
    "    if not exists: break \n",
    "    \n",
    "    b = os.path.basename(file)\n",
    "    print(b)\n",
    "    print(\"Creating link\")\n",
    "    try:\n",
    "        os.symlink(file, result_dir + b)\n",
    "    except:\n",
    "        print(\"No___________\")\n"
   ]
  },
  {
   "cell_type": "code",
   "execution_count": null,
   "id": "e5e72df2-2bb3-418c-96e7-efc7fbac1f7f",
   "metadata": {},
   "outputs": [],
   "source": []
  }
 ],
 "metadata": {
  "kernelspec": {
   "display_name": "Python 3 (ipykernel)",
   "language": "python",
   "name": "python3"
  },
  "language_info": {
   "codemirror_mode": {
    "name": "ipython",
    "version": 3
   },
   "file_extension": ".py",
   "mimetype": "text/x-python",
   "name": "python",
   "nbconvert_exporter": "python",
   "pygments_lexer": "ipython3",
   "version": "3.10.5"
  }
 },
 "nbformat": 4,
 "nbformat_minor": 5
}
